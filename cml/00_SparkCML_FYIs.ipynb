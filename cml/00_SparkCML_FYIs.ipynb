{
 "cells": [
  {
   "cell_type": "markdown",
   "id": "68e12048-0f36-42f0-a7c6-de651207aa53",
   "metadata": {},
   "source": [
    "# Using Spark in CML - Must Know"
   ]
  },
  {
   "cell_type": "code",
   "execution_count": null,
   "id": "7199615a-b46a-402b-95d2-1c247ee85c00",
   "metadata": {},
   "outputs": [],
   "source": [
    "import cml.data_v1 as cmldata\n",
    "\n",
    "CONNECTION_NAME = \"go01-aw-dl\"\n",
    "conn = cmldata.get_connection(CONNECTION_NAME)\n",
    "spark = conn.get_spark_session()\n",
    "\n",
    "# Sample usage to run query through spark\n",
    "EXAMPLE_SQL_QUERY = \"show databases\"\n",
    "spark.sql(EXAMPLE_SQL_QUERY).show()"
   ]
  },
  {
   "cell_type": "code",
   "execution_count": null,
   "id": "7bc9fe97-9527-4ace-b284-aafb2c0a31f0",
   "metadata": {},
   "outputs": [],
   "source": []
  },
  {
   "cell_type": "code",
   "execution_count": null,
   "id": "aa0627e2-c2ab-41b8-9493-db214460b43c",
   "metadata": {},
   "outputs": [],
   "source": []
  },
  {
   "cell_type": "code",
   "execution_count": null,
   "id": "f8c1e3d1-4253-4fd7-b8d5-40003084d25d",
   "metadata": {},
   "outputs": [],
   "source": []
  },
  {
   "cell_type": "code",
   "execution_count": null,
   "id": "6f3bd6ca-6c50-4137-a56b-f8534486fda7",
   "metadata": {},
   "outputs": [],
   "source": []
  },
  {
   "cell_type": "markdown",
   "id": "78ecf8cb-8dbd-49f6-ae58-2da8a94b43a1",
   "metadata": {},
   "source": [
    "## Reaching the Spark UI"
   ]
  },
  {
   "cell_type": "markdown",
   "id": "0ad6a889-5f99-4204-9beb-f4623e3e8d71",
   "metadata": {},
   "source": [
    "You can reach the Spark UI by executing the following and visiting the URL:"
   ]
  },
  {
   "cell_type": "code",
   "execution_count": 1,
   "id": "425349e3-e3df-4e21-99f0-d9ea9bb8ba30",
   "metadata": {},
   "outputs": [
    {
     "name": "stdout",
     "output_type": "stream",
     "text": [
      "https://spark-2mwuf36mfmzr795c.ml-4c5feac0-3ec.go01-dem.ylcu-atmi.cloudera.site\n"
     ]
    }
   ],
   "source": [
    "import os\n",
    "print(\"https://spark-\"+os.environ[\"CDSW_ENGINE_ID\"]+\".\"+os.environ[\"CDSW_DOMAIN\"])"
   ]
  },
  {
   "cell_type": "code",
   "execution_count": null,
   "id": "5add5052-3b01-471f-b464-f6d76b89dd9e",
   "metadata": {},
   "outputs": [],
   "source": []
  },
  {
   "cell_type": "code",
   "execution_count": null,
   "id": "ae7fd6f3-f8ce-4f16-874c-11bb5f7950ff",
   "metadata": {},
   "outputs": [],
   "source": []
  },
  {
   "cell_type": "code",
   "execution_count": null,
   "id": "0808be43-4ffb-4a42-8e41-5301ec789241",
   "metadata": {},
   "outputs": [],
   "source": []
  },
  {
   "cell_type": "code",
   "execution_count": null,
   "id": "43a4b4f1-528d-4836-a223-636c47191691",
   "metadata": {},
   "outputs": [],
   "source": []
  }
 ],
 "metadata": {
  "kernelspec": {
   "display_name": "Python 3 (ipykernel)",
   "language": "python",
   "name": "python3"
  },
  "language_info": {
   "codemirror_mode": {
    "name": "ipython",
    "version": 3
   },
   "file_extension": ".py",
   "mimetype": "text/x-python",
   "name": "python",
   "nbconvert_exporter": "python",
   "pygments_lexer": "ipython3",
   "version": "3.7.13"
  }
 },
 "nbformat": 4,
 "nbformat_minor": 5
}
